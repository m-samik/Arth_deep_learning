{
 "cells": [
  {
   "cell_type": "code",
   "execution_count": 2,
   "id": "stone-wayne",
   "metadata": {},
   "outputs": [],
   "source": [
    "import pandas as pd\n"
   ]
  },
  {
   "cell_type": "code",
   "execution_count": 3,
   "id": "flush-cross",
   "metadata": {},
   "outputs": [],
   "source": [
    "dataset = pd.read_csv(\"weight-height.csv\")"
   ]
  },
  {
   "cell_type": "code",
   "execution_count": 4,
   "id": "decimal-buying",
   "metadata": {},
   "outputs": [
    {
     "data": {
      "text/plain": [
       "Index(['Gender', 'Height', 'Weight'], dtype='object')"
      ]
     },
     "execution_count": 4,
     "metadata": {},
     "output_type": "execute_result"
    }
   ],
   "source": [
    "#Reading Number of Columns\n",
    "dataset.columns  "
   ]
  },
  {
   "cell_type": "code",
   "execution_count": 5,
   "id": "right-kelly",
   "metadata": {},
   "outputs": [],
   "source": [
    "y=dataset['Weight']"
   ]
  },
  {
   "cell_type": "code",
   "execution_count": 7,
   "id": "functioning-desperate",
   "metadata": {},
   "outputs": [],
   "source": [
    "X=dataset['Height']"
   ]
  },
  {
   "cell_type": "code",
   "execution_count": 9,
   "id": "french-process",
   "metadata": {},
   "outputs": [],
   "source": [
    "#Importing the function required for our model ---> Sequential Function\n",
    "from keras.models import Sequential"
   ]
  },
  {
   "cell_type": "code",
   "execution_count": 20,
   "id": "mighty-creativity",
   "metadata": {},
   "outputs": [],
   "source": [
    "# To create our Hidden Layer / Neuron We will Import Dense Module\n",
    "from keras.layers import Dense"
   ]
  },
  {
   "cell_type": "code",
   "execution_count": 21,
   "id": "banner-glass",
   "metadata": {},
   "outputs": [],
   "source": [
    "#For Compiling our model we need to add the optimizer in our case we will use Adam \n",
    "from keras.optimizers import Adam"
   ]
  },
  {
   "cell_type": "code",
   "execution_count": 15,
   "id": "pleased-scott",
   "metadata": {},
   "outputs": [],
   "source": [
    "#To create our model we will use sequential function\n",
    "model= Sequential()"
   ]
  },
  {
   "cell_type": "code",
   "execution_count": 16,
   "id": "great-consent",
   "metadata": {},
   "outputs": [],
   "source": [
    "#Creating a Layer for our model\n",
    "model.add(Dense(activation=\"linear\" , input_shape=(1,) , units =1 , kernel_initializer='zeros' , bias_initializer ='zeros' ))"
   ]
  },
  {
   "cell_type": "code",
   "execution_count": 17,
   "id": "caring-domain",
   "metadata": {},
   "outputs": [
    {
     "name": "stdout",
     "output_type": "stream",
     "text": [
      "Model: \"sequential_2\"\n",
      "_________________________________________________________________\n",
      "Layer (type)                 Output Shape              Param #   \n",
      "=================================================================\n",
      "dense (Dense)                (None, 1)                 2         \n",
      "=================================================================\n",
      "Total params: 2\n",
      "Trainable params: 2\n",
      "Non-trainable params: 0\n",
      "_________________________________________________________________\n"
     ]
    }
   ],
   "source": [
    "#Getting the Summary of our Model\n",
    "model.summary()"
   ]
  },
  {
   "cell_type": "code",
   "execution_count": 18,
   "id": "cooperative-dealing",
   "metadata": {},
   "outputs": [
    {
     "data": {
      "text/plain": [
       "[array([[0.]], dtype=float32), array([0.], dtype=float32)]"
      ]
     },
     "execution_count": 18,
     "metadata": {},
     "output_type": "execute_result"
    }
   ],
   "source": [
    "model.get_weights()"
   ]
  },
  {
   "cell_type": "code",
   "execution_count": 22,
   "id": "union-canal",
   "metadata": {},
   "outputs": [],
   "source": [
    "model.compile(loss='mean_squared_error' , optimizer = Adam())"
   ]
  },
  {
   "cell_type": "code",
   "execution_count": 23,
   "id": "postal-wallpaper",
   "metadata": {},
   "outputs": [
    {
     "name": "stdout",
     "output_type": "stream",
     "text": [
      "313/313 [==============================] - 0s 2ms/step - loss: 23864.8984\n"
     ]
    },
    {
     "data": {
      "text/plain": [
       "<tensorflow.python.keras.callbacks.History at 0x264b180df48>"
      ]
     },
     "execution_count": 23,
     "metadata": {},
     "output_type": "execute_result"
    }
   ],
   "source": [
    "model.fit(X,y)"
   ]
  },
  {
   "cell_type": "code",
   "execution_count": 24,
   "id": "toxic-channel",
   "metadata": {},
   "outputs": [
    {
     "data": {
      "text/plain": [
       "[array([[0.30450612]], dtype=float32), array([0.3044017], dtype=float32)]"
      ]
     },
     "execution_count": 24,
     "metadata": {},
     "output_type": "execute_result"
    }
   ],
   "source": [
    "model.get_weights()"
   ]
  },
  {
   "cell_type": "code",
   "execution_count": 25,
   "id": "featured-princeton",
   "metadata": {},
   "outputs": [
    {
     "data": {
      "text/plain": [
       "array([[23.14236]], dtype=float32)"
      ]
     },
     "execution_count": 25,
     "metadata": {},
     "output_type": "execute_result"
    }
   ],
   "source": [
    "model.predict([75])"
   ]
  },
  {
   "cell_type": "code",
   "execution_count": 26,
   "id": "lined-worker",
   "metadata": {},
   "outputs": [],
   "source": [
    "model.save(\"weight_height_model.h5\")"
   ]
  },
  {
   "cell_type": "code",
   "execution_count": null,
   "id": "artificial-model",
   "metadata": {},
   "outputs": [],
   "source": []
  },
  {
   "cell_type": "code",
   "execution_count": null,
   "id": "public-twelve",
   "metadata": {},
   "outputs": [],
   "source": []
  }
 ],
 "metadata": {
  "kernelspec": {
   "display_name": "Python 3",
   "language": "python",
   "name": "python3"
  },
  "language_info": {
   "codemirror_mode": {
    "name": "ipython",
    "version": 3
   },
   "file_extension": ".py",
   "mimetype": "text/x-python",
   "name": "python",
   "nbconvert_exporter": "python",
   "pygments_lexer": "ipython3",
   "version": "3.7.9"
  }
 },
 "nbformat": 4,
 "nbformat_minor": 5
}
